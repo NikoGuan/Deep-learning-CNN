{
 "cells": [
  {
   "cell_type": "markdown",
   "metadata": {},
   "source": [
    "# COMP47590 Advanced Machine Learning\n",
    "# CNNs in Keras"
   ]
  },
  {
   "cell_type": "markdown",
   "metadata": {},
   "source": [
    "This notebook demontates how  a convoluional neural network can be trained to recognise hand written digits, which is imporant for many AI systems, for exmaple automated check recognition. This example is based on [https://github.com/fchollet/keras/blob/master/examples/mnist_cnn.py](https://github.com/fchollet/keras/blob/master/examples/mnist_cnn.py)"
   ]
  },
  {
   "cell_type": "markdown",
   "metadata": {},
   "source": [
    "Import packages that will be used in this demo. "
   ]
  },
  {
   "cell_type": "code",
   "execution_count": 58,
   "metadata": {},
   "outputs": [],
   "source": [
    "import numpy as np\n",
    "np.random.seed(1337)  # for reproducibility\n",
    "import pandas as pd\n",
    "\n",
    "import matplotlib.pyplot as plt\n",
    "%matplotlib inline\n",
    "\n",
    "import gradio as gr\n",
    "\n",
    "import random\n",
    "import scipy as sp\n",
    "import PIL\n",
    "import os\n",
    "import cv2\n",
    "\n",
    "from IPython.display import display, HTML, Image\n",
    "from IPython.display import SVG\n",
    "\n",
    "from sklearn import preprocessing \n",
    "from sklearn import metrics\n",
    "from sklearn.model_selection import train_test_split\n",
    "\n",
    "import tensorflow as tf\n",
    "import tensorflow.keras\n",
    "from tensorflow.keras.datasets import mnist\n",
    "from tensorflow.keras.models import Sequential\n",
    "from tensorflow.keras.layers import Dense, Dropout, Activation, Flatten\n",
    "from tensorflow.keras.layers import Conv2D, MaxPooling2D\n",
    "#from tensorflow.keras.utils import np_utils\n",
    "from tensorflow.keras.utils import model_to_dot\n",
    "\n",
    "tensorflow.keras.backend.set_image_data_format('channels_last')"
   ]
  },
  {
   "cell_type": "markdown",
   "metadata": {},
   "source": [
    "## Dataset Pre-Processing"
   ]
  },
  {
   "cell_type": "markdown",
   "metadata": {},
   "source": [
    "Read in the mnist dataset and prepare it for learning. This noramlises the values to between 0 and 1, and divides the data into Train, Validation and Test sets. "
   ]
  },
  {
   "cell_type": "code",
   "execution_count": 29,
   "metadata": {},
   "outputs": [],
   "source": [
    "abt = pd.read_csv(\"mnist_train.csv\", encoding = \"ISO-8859-1\")\n",
    "\n",
    "# Make a random sample from the full dataset\n",
    "sample_rate = 0.5\n",
    "abt = abt.sample(frac = sample_rate)\n",
    "\n",
    "# Put all but the target variable into the descriptive features array\n",
    "X = abt.iloc[:, 1:]\n",
    "Y = abt[\"label\"]\n",
    "\n",
    "# Use a range scaling to scale all variables to between 0 and 1\n",
    "min_max_scaler = preprocessing.MinMaxScaler()\n",
    "cols = X.columns\n",
    "X = pd.DataFrame(min_max_scaler.fit_transform(X), columns = cols) # Watch out for putting back in columns here\n",
    "\n",
    "# Perfrom split to train, validation, test\n",
    "x_train_plus_valid, x_test, y_train_plus_valid, y_test = train_test_split(X, Y, random_state=0, test_size = 0.30, train_size = 0.7)\n",
    "x_train, x_valid, y_train, y_valid = train_test_split(x_train_plus_valid, y_train_plus_valid, random_state=0, test_size = 0.199/0.7, train_size = 0.5/0.7)\n",
    "\n",
    "# convert to numpy arrays\n",
    "x_train = x_train.values\n",
    "x_valid = x_valid.values\n",
    "x_test = x_test.values\n",
    "\n",
    "y_train_cat = y_train.copy()\n",
    "y_valid_cat = y_valid.copy()\n",
    "y_test_cat = y_test.copy()\n",
    "\n",
    "y_train = y_train.values\n",
    "y_valid = y_valid.values\n",
    "y_test = y_test.values"
   ]
  },
  {
   "cell_type": "code",
   "execution_count": 24,
   "metadata": {},
   "outputs": [
    {
     "data": {
      "text/html": [
       "<div>\n",
       "<style scoped>\n",
       "    .dataframe tbody tr th:only-of-type {\n",
       "        vertical-align: middle;\n",
       "    }\n",
       "\n",
       "    .dataframe tbody tr th {\n",
       "        vertical-align: top;\n",
       "    }\n",
       "\n",
       "    .dataframe thead th {\n",
       "        text-align: right;\n",
       "    }\n",
       "</style>\n",
       "<table border=\"1\" class=\"dataframe\">\n",
       "  <thead>\n",
       "    <tr style=\"text-align: right;\">\n",
       "      <th></th>\n",
       "      <th>label</th>\n",
       "      <th>X0</th>\n",
       "      <th>X1</th>\n",
       "      <th>X2</th>\n",
       "      <th>X3</th>\n",
       "      <th>X4</th>\n",
       "      <th>X5</th>\n",
       "      <th>X6</th>\n",
       "      <th>X7</th>\n",
       "      <th>X8</th>\n",
       "      <th>...</th>\n",
       "      <th>X730</th>\n",
       "      <th>X731</th>\n",
       "      <th>X732</th>\n",
       "      <th>X733</th>\n",
       "      <th>X734</th>\n",
       "      <th>X735</th>\n",
       "      <th>X736</th>\n",
       "      <th>X737</th>\n",
       "      <th>X738</th>\n",
       "      <th>X739</th>\n",
       "    </tr>\n",
       "  </thead>\n",
       "  <tbody>\n",
       "    <tr>\n",
       "      <th>39385</th>\n",
       "      <td>6</td>\n",
       "      <td>0</td>\n",
       "      <td>0</td>\n",
       "      <td>0</td>\n",
       "      <td>0</td>\n",
       "      <td>0</td>\n",
       "      <td>0</td>\n",
       "      <td>0</td>\n",
       "      <td>0</td>\n",
       "      <td>0</td>\n",
       "      <td>...</td>\n",
       "      <td>0</td>\n",
       "      <td>0</td>\n",
       "      <td>0</td>\n",
       "      <td>0</td>\n",
       "      <td>0</td>\n",
       "      <td>0</td>\n",
       "      <td>0</td>\n",
       "      <td>0</td>\n",
       "      <td>0</td>\n",
       "      <td>0</td>\n",
       "    </tr>\n",
       "    <tr>\n",
       "      <th>28837</th>\n",
       "      <td>1</td>\n",
       "      <td>0</td>\n",
       "      <td>0</td>\n",
       "      <td>0</td>\n",
       "      <td>0</td>\n",
       "      <td>0</td>\n",
       "      <td>0</td>\n",
       "      <td>0</td>\n",
       "      <td>0</td>\n",
       "      <td>0</td>\n",
       "      <td>...</td>\n",
       "      <td>0</td>\n",
       "      <td>0</td>\n",
       "      <td>0</td>\n",
       "      <td>0</td>\n",
       "      <td>0</td>\n",
       "      <td>0</td>\n",
       "      <td>0</td>\n",
       "      <td>0</td>\n",
       "      <td>0</td>\n",
       "      <td>0</td>\n",
       "    </tr>\n",
       "    <tr>\n",
       "      <th>35708</th>\n",
       "      <td>0</td>\n",
       "      <td>0</td>\n",
       "      <td>0</td>\n",
       "      <td>0</td>\n",
       "      <td>0</td>\n",
       "      <td>0</td>\n",
       "      <td>0</td>\n",
       "      <td>0</td>\n",
       "      <td>0</td>\n",
       "      <td>0</td>\n",
       "      <td>...</td>\n",
       "      <td>0</td>\n",
       "      <td>0</td>\n",
       "      <td>0</td>\n",
       "      <td>0</td>\n",
       "      <td>0</td>\n",
       "      <td>0</td>\n",
       "      <td>0</td>\n",
       "      <td>0</td>\n",
       "      <td>0</td>\n",
       "      <td>0</td>\n",
       "    </tr>\n",
       "    <tr>\n",
       "      <th>53829</th>\n",
       "      <td>5</td>\n",
       "      <td>0</td>\n",
       "      <td>0</td>\n",
       "      <td>0</td>\n",
       "      <td>0</td>\n",
       "      <td>0</td>\n",
       "      <td>0</td>\n",
       "      <td>0</td>\n",
       "      <td>0</td>\n",
       "      <td>0</td>\n",
       "      <td>...</td>\n",
       "      <td>0</td>\n",
       "      <td>0</td>\n",
       "      <td>0</td>\n",
       "      <td>0</td>\n",
       "      <td>0</td>\n",
       "      <td>0</td>\n",
       "      <td>0</td>\n",
       "      <td>0</td>\n",
       "      <td>0</td>\n",
       "      <td>0</td>\n",
       "    </tr>\n",
       "    <tr>\n",
       "      <th>27273</th>\n",
       "      <td>9</td>\n",
       "      <td>0</td>\n",
       "      <td>0</td>\n",
       "      <td>0</td>\n",
       "      <td>0</td>\n",
       "      <td>0</td>\n",
       "      <td>0</td>\n",
       "      <td>0</td>\n",
       "      <td>0</td>\n",
       "      <td>0</td>\n",
       "      <td>...</td>\n",
       "      <td>0</td>\n",
       "      <td>0</td>\n",
       "      <td>0</td>\n",
       "      <td>0</td>\n",
       "      <td>0</td>\n",
       "      <td>0</td>\n",
       "      <td>0</td>\n",
       "      <td>0</td>\n",
       "      <td>0</td>\n",
       "      <td>0</td>\n",
       "    </tr>\n",
       "  </tbody>\n",
       "</table>\n",
       "<p>5 rows × 785 columns</p>\n",
       "</div>"
      ],
      "text/plain": [
       "       label  X0  X1  X2  X3  X4  X5  X6  X7  X8  ...  X730  X731  X732  X733  \\\n",
       "39385      6   0   0   0   0   0   0   0   0   0  ...     0     0     0     0   \n",
       "28837      1   0   0   0   0   0   0   0   0   0  ...     0     0     0     0   \n",
       "35708      0   0   0   0   0   0   0   0   0   0  ...     0     0     0     0   \n",
       "53829      5   0   0   0   0   0   0   0   0   0  ...     0     0     0     0   \n",
       "27273      9   0   0   0   0   0   0   0   0   0  ...     0     0     0     0   \n",
       "\n",
       "       X734  X735  X736  X737  X738  X739  \n",
       "39385     0     0     0     0     0     0  \n",
       "28837     0     0     0     0     0     0  \n",
       "35708     0     0     0     0     0     0  \n",
       "53829     0     0     0     0     0     0  \n",
       "27273     0     0     0     0     0     0  \n",
       "\n",
       "[5 rows x 785 columns]"
      ]
     },
     "execution_count": 24,
     "metadata": {},
     "output_type": "execute_result"
    }
   ],
   "source": [
    "abt.head()"
   ]
  },
  {
   "cell_type": "code",
   "execution_count": 25,
   "metadata": {},
   "outputs": [
    {
     "data": {
      "text/plain": [
       "(30000, 785)"
      ]
     },
     "execution_count": 25,
     "metadata": {},
     "output_type": "execute_result"
    }
   ],
   "source": [
    "abt.shape"
   ]
  },
  {
   "cell_type": "markdown",
   "metadata": {},
   "source": [
    "Prepare the data for input to a convolutional network"
   ]
  },
  {
   "cell_type": "code",
   "execution_count": 30,
   "metadata": {},
   "outputs": [
    {
     "name": "stdout",
     "output_type": "stream",
     "text": [
      "x_train shape: (15000, 28, 28, 1)\n",
      "15000 train samples\n",
      "5971 valid samples\n",
      "9000 test samples\n"
     ]
    }
   ],
   "source": [
    "num_classes = 10\n",
    "\n",
    "# input image dimensions\n",
    "img_rows, img_cols = 28, 28\n",
    "\n",
    "x_train = x_train.reshape(x_train.shape[0], img_rows, img_cols, 1)\n",
    "x_valid = x_valid.reshape(x_valid.shape[0], img_rows, img_cols, 1)\n",
    "x_test = x_test.reshape(x_test.shape[0], img_rows, img_cols, 1)\n",
    "input_shape = (img_rows, img_cols, 1)\n",
    "\n",
    "x_train = x_train.astype('float32')\n",
    "x_valid = x_valid.astype('float32')\n",
    "x_test = x_test.astype('float32')\n",
    "\n",
    "print('x_train shape:', x_train.shape)\n",
    "print(x_train.shape[0], 'train samples')\n",
    "print(x_valid.shape[0], 'valid samples')\n",
    "print(x_test.shape[0], 'test samples')\n",
    "\n",
    "# convert class vectors to binary class matrices\n",
    "y_train = tensorflow.keras.utils.to_categorical(y_train, num_classes)\n",
    "y_valid = tensorflow.keras.utils.to_categorical(y_valid, num_classes)\n",
    "y_test = tensorflow.keras.utils.to_categorical(y_test, num_classes)"
   ]
  },
  {
   "cell_type": "markdown",
   "metadata": {},
   "source": [
    "Print some images from the training set"
   ]
  },
  {
   "cell_type": "code",
   "execution_count": 32,
   "metadata": {
    "scrolled": false
   },
   "outputs": [
    {
     "data": {
      "image/png": "[encoded data removed]",
      "text/plain": [
       "<Figure size 1440x1440 with 25 Axes>"
      ]
     },
     "metadata": {
      "needs_background": "light"
     },
     "output_type": "display_data"
    }
   ],
   "source": [
    "pltsize=4\n",
    "row_images = 5\n",
    "col_images = 5\n",
    "plt.figure(figsize=(col_images*pltsize, row_images*pltsize))\n",
    "\n",
    "for i in range(row_images * col_images):\n",
    "    i_rand = random.randint(0, x_train.shape[0])\n",
    "    plt.subplot(row_images,col_images,i+1)\n",
    "    plt.axis('off')\n",
    "    plt.imshow((x_train[i_rand]*255).astype('int').reshape(28,28), cmap='gray', vmin=0, vmax=255)\n",
    "    plt.title((str(y_train_cat.iloc[i_rand])))\n",
    "    # print('Training sample',i_rand,': class:',y_train[i_rand])"
   ]
  },
  {
   "cell_type": "markdown",
   "metadata": {},
   "source": [
    "## Model Building"
   ]
  },
  {
   "cell_type": "markdown",
   "metadata": {},
   "source": [
    "Set up the convolutional neural network."
   ]
  },
  {
   "cell_type": "code",
   "execution_count": 33,
   "metadata": {
    "scrolled": false
   },
   "outputs": [
    {
     "name": "stdout",
     "output_type": "stream",
     "text": [
      "Model: \"sequential_1\"\n",
      "_________________________________________________________________\n",
      " Layer (type)                Output Shape              Param #   \n",
      "=================================================================\n",
      " conv2d_2 (Conv2D)           (None, 26, 26, 8)         80        \n",
      "                                                                 \n",
      " activation_3 (Activation)   (None, 26, 26, 8)         0         \n",
      "                                                                 \n",
      " max_pooling2d_2 (MaxPooling  (None, 13, 13, 8)        0         \n",
      " 2D)                                                             \n",
      "                                                                 \n",
      " conv2d_3 (Conv2D)           (None, 11, 11, 16)        1168      \n",
      "                                                                 \n",
      " activation_4 (Activation)   (None, 11, 11, 16)        0         \n",
      "                                                                 \n",
      " max_pooling2d_3 (MaxPooling  (None, 5, 5, 16)         0         \n",
      " 2D)                                                             \n",
      "                                                                 \n",
      " flatten_1 (Flatten)         (None, 400)               0         \n",
      "                                                                 \n",
      " dense_2 (Dense)             (None, 1000)              401000    \n",
      "                                                                 \n",
      " activation_5 (Activation)   (None, 1000)              0         \n",
      "                                                                 \n",
      " dense_3 (Dense)             (None, 10)                10010     \n",
      "                                                                 \n",
      "=================================================================\n",
      "Total params: 412,258\n",
      "Trainable params: 412,258\n",
      "Non-trainable params: 0\n",
      "_________________________________________________________________\n"
     ]
    }
   ],
   "source": [
    "model = Sequential()\n",
    "\n",
    "model.add(Conv2D(8, kernel_size=(3, 3),\n",
    "                 input_shape=input_shape))\n",
    "model.add(Activation(\"relu\"))\n",
    "model.add(MaxPooling2D(pool_size=(2, 2)))\n",
    "\n",
    "model.add(Conv2D(16, kernel_size=(3, 3)))\n",
    "model.add(Activation(\"relu\"))\n",
    "model.add(MaxPooling2D(pool_size=(2, 2)))\n",
    "\n",
    "model.add(Flatten())\n",
    "model.add(Dense(1000))\n",
    "model.add(Activation(\"relu\"))\n",
    "\n",
    "model.add(Dense(num_classes, activation='softmax'))\n",
    "\n",
    "model.summary()"
   ]
  },
  {
   "cell_type": "markdown",
   "metadata": {},
   "source": [
    "Train the model"
   ]
  },
  {
   "cell_type": "code",
   "execution_count": 34,
   "metadata": {},
   "outputs": [],
   "source": [
    "batch_size = 128\n",
    "epochs = 30\n",
    "\n",
    "model.compile(loss=tensorflow.keras.losses.categorical_crossentropy,\n",
    "              optimizer=\"adam\",\n",
    "              metrics=['accuracy'])"
   ]
  },
  {
   "cell_type": "code",
   "execution_count": 35,
   "metadata": {},
   "outputs": [
    {
     "name": "stdout",
     "output_type": "stream",
     "text": [
      "Epoch 1/30\n",
      "118/118 [==============================] - 5s 37ms/step - loss: 0.5327 - accuracy: 0.8533 - val_loss: 0.2158 - val_accuracy: 0.9320\n",
      "Epoch 2/30\n",
      "118/118 [==============================] - 4s 33ms/step - loss: 0.1554 - accuracy: 0.9541 - val_loss: 0.1305 - val_accuracy: 0.9603\n",
      "Epoch 3/30\n",
      "118/118 [==============================] - 4s 38ms/step - loss: 0.1094 - accuracy: 0.9661 - val_loss: 0.0966 - val_accuracy: 0.9714\n",
      "Epoch 4/30\n",
      "118/118 [==============================] - 4s 37ms/step - loss: 0.0791 - accuracy: 0.9760 - val_loss: 0.0875 - val_accuracy: 0.9737\n",
      "Epoch 5/30\n",
      "118/118 [==============================] - 4s 35ms/step - loss: 0.0615 - accuracy: 0.9796 - val_loss: 0.0740 - val_accuracy: 0.9791\n",
      "Epoch 6/30\n",
      "118/118 [==============================] - 4s 38ms/step - loss: 0.0520 - accuracy: 0.9845 - val_loss: 0.0782 - val_accuracy: 0.9762\n",
      "Epoch 7/30\n",
      "118/118 [==============================] - 5s 40ms/step - loss: 0.0438 - accuracy: 0.9859 - val_loss: 0.0680 - val_accuracy: 0.9789\n",
      "Epoch 8/30\n",
      "118/118 [==============================] - 4s 37ms/step - loss: 0.0319 - accuracy: 0.9902 - val_loss: 0.0583 - val_accuracy: 0.9824\n",
      "Epoch 9/30\n",
      "118/118 [==============================] - 4s 31ms/step - loss: 0.0296 - accuracy: 0.9905 - val_loss: 0.0581 - val_accuracy: 0.9838\n",
      "Epoch 10/30\n",
      "118/118 [==============================] - 4s 35ms/step - loss: 0.0255 - accuracy: 0.9919 - val_loss: 0.0682 - val_accuracy: 0.9774\n",
      "Epoch 11/30\n",
      "118/118 [==============================] - 5s 43ms/step - loss: 0.0208 - accuracy: 0.9935 - val_loss: 0.0579 - val_accuracy: 0.9829\n",
      "Epoch 12/30\n",
      "118/118 [==============================] - 5s 40ms/step - loss: 0.0140 - accuracy: 0.9957 - val_loss: 0.0599 - val_accuracy: 0.9831\n",
      "Epoch 13/30\n",
      "118/118 [==============================] - 5s 42ms/step - loss: 0.0110 - accuracy: 0.9969 - val_loss: 0.0653 - val_accuracy: 0.9806\n",
      "Epoch 14/30\n",
      "118/118 [==============================] - 5s 43ms/step - loss: 0.0099 - accuracy: 0.9969 - val_loss: 0.0601 - val_accuracy: 0.9836\n",
      "Epoch 15/30\n",
      "118/118 [==============================] - 5s 45ms/step - loss: 0.0077 - accuracy: 0.9976 - val_loss: 0.0587 - val_accuracy: 0.9831\n",
      "Epoch 16/30\n",
      "118/118 [==============================] - 5s 40ms/step - loss: 0.0056 - accuracy: 0.9985 - val_loss: 0.0562 - val_accuracy: 0.9849\n",
      "Epoch 17/30\n",
      "118/118 [==============================] - 5s 47ms/step - loss: 0.0112 - accuracy: 0.9963 - val_loss: 0.0685 - val_accuracy: 0.9833\n",
      "Epoch 18/30\n",
      "118/118 [==============================] - 5s 45ms/step - loss: 0.0083 - accuracy: 0.9971 - val_loss: 0.0588 - val_accuracy: 0.9861\n",
      "Epoch 19/30\n",
      "118/118 [==============================] - 5s 40ms/step - loss: 0.0046 - accuracy: 0.9988 - val_loss: 0.0855 - val_accuracy: 0.9774\n",
      "Epoch 20/30\n",
      "118/118 [==============================] - 4s 38ms/step - loss: 0.0027 - accuracy: 0.9997 - val_loss: 0.0571 - val_accuracy: 0.9861\n",
      "Epoch 21/30\n",
      "118/118 [==============================] - 5s 42ms/step - loss: 7.5561e-04 - accuracy: 1.0000 - val_loss: 0.0578 - val_accuracy: 0.9869\n",
      "Epoch 22/30\n",
      "118/118 [==============================] - 5s 41ms/step - loss: 4.5560e-04 - accuracy: 1.0000 - val_loss: 0.0602 - val_accuracy: 0.9863\n",
      "Epoch 23/30\n",
      "118/118 [==============================] - 5s 41ms/step - loss: 4.1536e-04 - accuracy: 1.0000 - val_loss: 0.0597 - val_accuracy: 0.9863\n",
      "Epoch 24/30\n",
      "118/118 [==============================] - 5s 39ms/step - loss: 3.0507e-04 - accuracy: 1.0000 - val_loss: 0.0631 - val_accuracy: 0.9869\n",
      "Epoch 25/30\n",
      "118/118 [==============================] - 4s 37ms/step - loss: 0.0026 - accuracy: 0.9995 - val_loss: 0.0685 - val_accuracy: 0.9853\n",
      "Epoch 26/30\n",
      "118/118 [==============================] - 5s 39ms/step - loss: 0.0085 - accuracy: 0.9969 - val_loss: 0.1102 - val_accuracy: 0.9732\n",
      "Epoch 27/30\n",
      "118/118 [==============================] - 5s 41ms/step - loss: 0.0234 - accuracy: 0.9926 - val_loss: 0.0641 - val_accuracy: 0.9829\n",
      "Epoch 28/30\n",
      "118/118 [==============================] - 4s 37ms/step - loss: 0.0087 - accuracy: 0.9973 - val_loss: 0.0585 - val_accuracy: 0.9859\n",
      "Epoch 29/30\n",
      "118/118 [==============================] - 4s 36ms/step - loss: 0.0035 - accuracy: 0.9989 - val_loss: 0.0654 - val_accuracy: 0.9849\n",
      "Epoch 30/30\n",
      "118/118 [==============================] - 4s 34ms/step - loss: 0.0035 - accuracy: 0.9988 - val_loss: 0.0597 - val_accuracy: 0.9848\n"
     ]
    }
   ],
   "source": [
    "history = model.fit(x_train, y_train,\n",
    "          batch_size=batch_size,\n",
    "          epochs=epochs,\n",
    "          verbose=1,\n",
    "          validation_data=(x_valid, y_valid))"
   ]
  },
  {
   "cell_type": "markdown",
   "metadata": {},
   "source": [
    "Plot accuracy and loss over the training period for training and validation sets."
   ]
  },
  {
   "cell_type": "code",
   "execution_count": 36,
   "metadata": {},
   "outputs": [
    {
     "data": {
      "image/png": "[encoded data removed]",
      "text/plain": [
       "<Figure size 432x288 with 1 Axes>"
      ]
     },
     "metadata": {
      "needs_background": "light"
     },
     "output_type": "display_data"
    }
   ],
   "source": [
    "# summarize history for accuracy\n",
    "plt.plot(history.history['accuracy'])\n",
    "plt.plot(history.history['val_accuracy'])\n",
    "plt.title('Accuracy')\n",
    "plt.ylabel('accuracy')\n",
    "plt.xlabel('epoch')\n",
    "plt.legend(['train', 'validation'], loc='lower right')\n",
    "#plt.ylim((0, 1.1))\n",
    "plt.show()"
   ]
  },
  {
   "cell_type": "code",
   "execution_count": null,
   "metadata": {},
   "outputs": [],
   "source": [
    "# summarize history for loss\n",
    "plt.plot(history.history['loss'])\n",
    "plt.plot(history.history['val_loss'])\n",
    "plt.title('Loss')\n",
    "plt.ylabel('loss')\n",
    "plt.xlabel('epoch')\n",
    "plt.legend(['train', 'validation'], loc='upper right')\n",
    "plt.ylim((-0.1, 1.1))\n",
    "plt.show()"
   ]
  },
  {
   "cell_type": "code",
   "execution_count": 37,
   "metadata": {},
   "outputs": [
    {
     "name": "stdout",
     "output_type": "stream",
     "text": [
      "Test loss: 0.07434952259063721\n",
      "Test accuracy: 0.983222246170044\n"
     ]
    }
   ],
   "source": [
    "score = model.evaluate(x_test, y_test, verbose=0)\n",
    "print('Test loss:', score[0])\n",
    "print('Test accuracy:', score[1])"
   ]
  },
  {
   "cell_type": "markdown",
   "metadata": {},
   "source": [
    "## Model Evaluation"
   ]
  },
  {
   "cell_type": "markdown",
   "metadata": {},
   "source": [
    "Evaluate the model"
   ]
  },
  {
   "cell_type": "code",
   "execution_count": 38,
   "metadata": {},
   "outputs": [
    {
     "name": "stdout",
     "output_type": "stream",
     "text": [
      "****** Test Data ********\n",
      "              precision    recall  f1-score   support\n",
      "\n",
      "           0       0.99      0.99      0.99       879\n",
      "           1       0.99      0.99      0.99       998\n",
      "           2       0.97      0.99      0.98       918\n",
      "           3       0.99      0.98      0.98       919\n",
      "           4       0.99      0.97      0.98       883\n",
      "           5       0.99      0.98      0.98       855\n",
      "           6       0.99      0.99      0.99       861\n",
      "           7       0.97      0.99      0.98       963\n",
      "           8       0.98      0.97      0.98       864\n",
      "           9       0.97      0.98      0.98       860\n",
      "\n",
      "    accuracy                           0.98      9000\n",
      "   macro avg       0.98      0.98      0.98      9000\n",
      "weighted avg       0.98      0.98      0.98      9000\n",
      "\n",
      "Confusion Matrix\n"
     ]
    },
    {
     "data": {
      "text/html": [
       "<div>\n",
       "<style scoped>\n",
       "    .dataframe tbody tr th:only-of-type {\n",
       "        vertical-align: middle;\n",
       "    }\n",
       "\n",
       "    .dataframe tbody tr th {\n",
       "        vertical-align: top;\n",
       "    }\n",
       "\n",
       "    .dataframe thead th {\n",
       "        text-align: right;\n",
       "    }\n",
       "</style>\n",
       "<table border=\"1\" class=\"dataframe\">\n",
       "  <thead>\n",
       "    <tr style=\"text-align: right;\">\n",
       "      <th>Predicted</th>\n",
       "      <th>0</th>\n",
       "      <th>1</th>\n",
       "      <th>2</th>\n",
       "      <th>3</th>\n",
       "      <th>4</th>\n",
       "      <th>5</th>\n",
       "      <th>6</th>\n",
       "      <th>7</th>\n",
       "      <th>8</th>\n",
       "      <th>9</th>\n",
       "      <th>All</th>\n",
       "    </tr>\n",
       "    <tr>\n",
       "      <th>True</th>\n",
       "      <th></th>\n",
       "      <th></th>\n",
       "      <th></th>\n",
       "      <th></th>\n",
       "      <th></th>\n",
       "      <th></th>\n",
       "      <th></th>\n",
       "      <th></th>\n",
       "      <th></th>\n",
       "      <th></th>\n",
       "      <th></th>\n",
       "    </tr>\n",
       "  </thead>\n",
       "  <tbody>\n",
       "    <tr>\n",
       "      <th>0</th>\n",
       "      <td>872</td>\n",
       "      <td>3</td>\n",
       "      <td>0</td>\n",
       "      <td>0</td>\n",
       "      <td>0</td>\n",
       "      <td>0</td>\n",
       "      <td>2</td>\n",
       "      <td>1</td>\n",
       "      <td>1</td>\n",
       "      <td>0</td>\n",
       "      <td>879</td>\n",
       "    </tr>\n",
       "    <tr>\n",
       "      <th>1</th>\n",
       "      <td>0</td>\n",
       "      <td>987</td>\n",
       "      <td>3</td>\n",
       "      <td>0</td>\n",
       "      <td>0</td>\n",
       "      <td>0</td>\n",
       "      <td>0</td>\n",
       "      <td>6</td>\n",
       "      <td>1</td>\n",
       "      <td>1</td>\n",
       "      <td>998</td>\n",
       "    </tr>\n",
       "    <tr>\n",
       "      <th>2</th>\n",
       "      <td>3</td>\n",
       "      <td>2</td>\n",
       "      <td>905</td>\n",
       "      <td>3</td>\n",
       "      <td>1</td>\n",
       "      <td>0</td>\n",
       "      <td>0</td>\n",
       "      <td>4</td>\n",
       "      <td>0</td>\n",
       "      <td>0</td>\n",
       "      <td>918</td>\n",
       "    </tr>\n",
       "    <tr>\n",
       "      <th>3</th>\n",
       "      <td>1</td>\n",
       "      <td>0</td>\n",
       "      <td>11</td>\n",
       "      <td>897</td>\n",
       "      <td>0</td>\n",
       "      <td>3</td>\n",
       "      <td>0</td>\n",
       "      <td>3</td>\n",
       "      <td>2</td>\n",
       "      <td>2</td>\n",
       "      <td>919</td>\n",
       "    </tr>\n",
       "    <tr>\n",
       "      <th>4</th>\n",
       "      <td>0</td>\n",
       "      <td>4</td>\n",
       "      <td>1</td>\n",
       "      <td>0</td>\n",
       "      <td>858</td>\n",
       "      <td>0</td>\n",
       "      <td>4</td>\n",
       "      <td>3</td>\n",
       "      <td>3</td>\n",
       "      <td>10</td>\n",
       "      <td>883</td>\n",
       "    </tr>\n",
       "    <tr>\n",
       "      <th>5</th>\n",
       "      <td>1</td>\n",
       "      <td>0</td>\n",
       "      <td>0</td>\n",
       "      <td>3</td>\n",
       "      <td>0</td>\n",
       "      <td>838</td>\n",
       "      <td>2</td>\n",
       "      <td>2</td>\n",
       "      <td>8</td>\n",
       "      <td>1</td>\n",
       "      <td>855</td>\n",
       "    </tr>\n",
       "    <tr>\n",
       "      <th>6</th>\n",
       "      <td>1</td>\n",
       "      <td>0</td>\n",
       "      <td>2</td>\n",
       "      <td>0</td>\n",
       "      <td>4</td>\n",
       "      <td>1</td>\n",
       "      <td>853</td>\n",
       "      <td>0</td>\n",
       "      <td>0</td>\n",
       "      <td>0</td>\n",
       "      <td>861</td>\n",
       "    </tr>\n",
       "    <tr>\n",
       "      <th>7</th>\n",
       "      <td>0</td>\n",
       "      <td>2</td>\n",
       "      <td>5</td>\n",
       "      <td>0</td>\n",
       "      <td>0</td>\n",
       "      <td>1</td>\n",
       "      <td>0</td>\n",
       "      <td>953</td>\n",
       "      <td>0</td>\n",
       "      <td>2</td>\n",
       "      <td>963</td>\n",
       "    </tr>\n",
       "    <tr>\n",
       "      <th>8</th>\n",
       "      <td>0</td>\n",
       "      <td>3</td>\n",
       "      <td>2</td>\n",
       "      <td>3</td>\n",
       "      <td>0</td>\n",
       "      <td>5</td>\n",
       "      <td>3</td>\n",
       "      <td>3</td>\n",
       "      <td>839</td>\n",
       "      <td>6</td>\n",
       "      <td>864</td>\n",
       "    </tr>\n",
       "    <tr>\n",
       "      <th>9</th>\n",
       "      <td>0</td>\n",
       "      <td>0</td>\n",
       "      <td>0</td>\n",
       "      <td>0</td>\n",
       "      <td>5</td>\n",
       "      <td>0</td>\n",
       "      <td>1</td>\n",
       "      <td>6</td>\n",
       "      <td>1</td>\n",
       "      <td>847</td>\n",
       "      <td>860</td>\n",
       "    </tr>\n",
       "    <tr>\n",
       "      <th>All</th>\n",
       "      <td>878</td>\n",
       "      <td>1001</td>\n",
       "      <td>929</td>\n",
       "      <td>906</td>\n",
       "      <td>868</td>\n",
       "      <td>848</td>\n",
       "      <td>865</td>\n",
       "      <td>981</td>\n",
       "      <td>855</td>\n",
       "      <td>869</td>\n",
       "      <td>9000</td>\n",
       "    </tr>\n",
       "  </tbody>\n",
       "</table>\n",
       "</div>"
      ],
      "text/plain": [
       "Predicted    0     1    2    3    4    5    6    7    8    9   All\n",
       "True                                                              \n",
       "0          872     3    0    0    0    0    2    1    1    0   879\n",
       "1            0   987    3    0    0    0    0    6    1    1   998\n",
       "2            3     2  905    3    1    0    0    4    0    0   918\n",
       "3            1     0   11  897    0    3    0    3    2    2   919\n",
       "4            0     4    1    0  858    0    4    3    3   10   883\n",
       "5            1     0    0    3    0  838    2    2    8    1   855\n",
       "6            1     0    2    0    4    1  853    0    0    0   861\n",
       "7            0     2    5    0    0    1    0  953    0    2   963\n",
       "8            0     3    2    3    0    5    3    3  839    6   864\n",
       "9            0     0    0    0    5    0    1    6    1  847   860\n",
       "All        878  1001  929  906  868  848  865  981  855  869  9000"
      ]
     },
     "metadata": {},
     "output_type": "display_data"
    }
   ],
   "source": [
    "from sklearn import metrics\n",
    "print(\"****** Test Data ********\")\n",
    "\n",
    "# Make a set of predictions for the validation data\n",
    "y_pred = model.predict(np.asfarray(x_test))\n",
    "y_pred = np.argmax(y_pred,axis=1)\n",
    "\n",
    "# Print performance details\n",
    "print(metrics.classification_report(y_test_cat, y_pred))\n",
    "\n",
    "# Print confusion matrix\n",
    "print(\"Confusion Matrix\")\n",
    "display(pd.crosstab(y_test_cat, y_pred, rownames=['True'], colnames=['Predicted'], margins=True))"
   ]
  },
  {
   "cell_type": "markdown",
   "metadata": {},
   "source": [
    "Plot some of the examples that the model classified correctly."
   ]
  },
  {
   "cell_type": "code",
   "execution_count": 39,
   "metadata": {
    "scrolled": false
   },
   "outputs": [
    {
     "data": {
      "image/png": "[encoded data removed]",
      "text/plain": [
       "<Figure size 1152x2880 with 40 Axes>"
      ]
     },
     "metadata": {
      "needs_background": "light"
     },
     "output_type": "display_data"
    }
   ],
   "source": [
    "pltsize=4\n",
    "row_images = 10\n",
    "col_images = 4\n",
    "\n",
    "maxtoshow = row_images * col_images\n",
    "predictions = y_pred.reshape(-1)\n",
    "corrects = predictions == y_test_cat\n",
    "ii = 0\n",
    "plt.figure(figsize=(col_images*pltsize, row_images*pltsize))\n",
    "\n",
    "for i in range(x_test.shape[0]):\n",
    "    if ii>=maxtoshow:\n",
    "        break\n",
    "    if corrects.iloc[i]:\n",
    "        plt.subplot(row_images,col_images, ii+1)\n",
    "        plt.axis('off')\n",
    "        plt.imshow((x_test[i]*255).astype('int').reshape(28,28), cmap='gray', vmin=0, vmax=255)\n",
    "        plt.title(\"{} for {}\".format(predictions[i], y_test_cat.iloc[i]))\n",
    "        ii = ii + 1"
   ]
  },
  {
   "cell_type": "code",
   "execution_count": 40,
   "metadata": {
    "scrolled": false
   },
   "outputs": [
    {
     "data": {
      "image/png": "[encoded data removed]",
      "text/plain": [
       "<Figure size 1152x2880 with 40 Axes>"
      ]
     },
     "metadata": {
      "needs_background": "light"
     },
     "output_type": "display_data"
    }
   ],
   "source": [
    "pltsize=4\n",
    "row_images = 10\n",
    "col_images = 4\n",
    "\n",
    "maxtoshow = row_images * col_images\n",
    "predictions = y_pred.reshape(-1)\n",
    "errors = predictions != y_test_cat\n",
    "ii = 0\n",
    "plt.figure(figsize=(col_images*pltsize, row_images*pltsize))\n",
    "\n",
    "for i in range(x_test.shape[0]):\n",
    "    if ii>=maxtoshow:\n",
    "        break\n",
    "    if errors.iloc[i]:\n",
    "        plt.subplot(row_images,col_images, ii+1)\n",
    "        plt.axis('off')\n",
    "        plt.imshow((x_test[i]*255).astype('int').reshape(28,28), cmap='gray', vmin=0, vmax=255)\n",
    "        plt.title(\"{} for {}\".format(predictions[i], y_test_cat.iloc[i]))\n",
    "        ii = ii + 1"
   ]
  },
  {
   "cell_type": "markdown",
   "metadata": {},
   "source": [
    "## Deploy the Model!"
   ]
  },
  {
   "cell_type": "markdown",
   "metadata": {},
   "source": [
    "Load test images from a test folder and make predictions for them. "
   ]
  },
  {
   "cell_type": "code",
   "execution_count": 49,
   "metadata": {},
   "outputs": [
    {
     "name": "stdout",
     "output_type": "stream",
     "text": [
      "Processed 16 of 17 \n"
     ]
    },
    {
     "name": "stderr",
     "output_type": "stream",
     "text": [
      "/var/folders/bz/lbfg_nj54wd40pqchhwx6ys80000gp/T/ipykernel_51639/3262147649.py:8: DeprecationWarning: `np.float` is a deprecated alias for the builtin `float`. To silence this warning, use `float` by itself. Doing this will not modify any behavior and is safe. If you specifically wanted the numpy scalar type, use `np.float64` here.\n",
      "Deprecated in NumPy 1.20; for more details and guidance: https://numpy.org/devdocs/release/1.20.0-notes.html#deprecations\n",
      "  X_data_test = np.ndarray((count, input_shape[0], input_shape[1], input_shape[2]), dtype=np.float)\n"
     ]
    }
   ],
   "source": [
    "image_class_folder = \"./test_images/\"\n",
    "\n",
    "# generate filenames from the data folder and do sampling\n",
    "image_filenames = [image_class_folder+i for i in os.listdir(image_class_folder) if not (i.startswith('.') or i.startswith('Icon')) ] \n",
    "\n",
    "# Create a data array for image data\n",
    "count = len(image_filenames)\n",
    "X_data_test = np.ndarray((count, input_shape[0], input_shape[1], input_shape[2]), dtype=np.float)\n",
    "\n",
    "# Iterate throuigh the filenames and for each one load the image, resize and normalise\n",
    "for i, image_file in enumerate(image_filenames):\n",
    "\n",
    "    # Low the images and resize them\n",
    "    image = cv2.imread(image_file, cv2.IMREAD_GRAYSCALE)\n",
    "    image = cv2.resize(image, (img_rows, img_cols), interpolation=cv2.INTER_CUBIC)\n",
    "    image = image.reshape(28,28,1)\n",
    "\n",
    "    # Add image data to data array and normalise\n",
    "    X_data_test[i] = image\n",
    "    X_data_test[i] = X_data_test[i]/255\n",
    "\n",
    "    if i > 0 and i%100 == 0: print('Processed {} of {} '.format(i, count))\n",
    "\n",
    "print('Processed {} of {} '.format(i, count))"
   ]
  },
  {
   "cell_type": "code",
   "execution_count": 50,
   "metadata": {},
   "outputs": [
    {
     "data": {
      "text/plain": [
       "0.0"
      ]
     },
     "execution_count": 50,
     "metadata": {},
     "output_type": "execute_result"
    }
   ],
   "source": [
    "X_data_test[9].max()"
   ]
  },
  {
   "cell_type": "markdown",
   "metadata": {},
   "source": [
    "Make a set of predictions for the images loaded."
   ]
  },
  {
   "cell_type": "code",
   "execution_count": 51,
   "metadata": {},
   "outputs": [],
   "source": [
    "y_pred = model.predict(np.asfarray(X_data_test))\n",
    "y_pred = np.argmax(y_pred,axis=1)"
   ]
  },
  {
   "cell_type": "code",
   "execution_count": 52,
   "metadata": {},
   "outputs": [],
   "source": [
    "y_pred_acc = model.predict(np.asfarray(X_data_test))"
   ]
  },
  {
   "cell_type": "code",
   "execution_count": 53,
   "metadata": {},
   "outputs": [
    {
     "data": {
      "text/html": [
       "<div>\n",
       "<style scoped>\n",
       "    .dataframe tbody tr th:only-of-type {\n",
       "        vertical-align: middle;\n",
       "    }\n",
       "\n",
       "    .dataframe tbody tr th {\n",
       "        vertical-align: top;\n",
       "    }\n",
       "\n",
       "    .dataframe thead th {\n",
       "        text-align: right;\n",
       "    }\n",
       "</style>\n",
       "<table border=\"1\" class=\"dataframe\">\n",
       "  <thead>\n",
       "    <tr style=\"text-align: right;\">\n",
       "      <th></th>\n",
       "      <th>0</th>\n",
       "      <th>1</th>\n",
       "      <th>2</th>\n",
       "      <th>3</th>\n",
       "      <th>4</th>\n",
       "      <th>5</th>\n",
       "      <th>6</th>\n",
       "      <th>7</th>\n",
       "      <th>8</th>\n",
       "      <th>9</th>\n",
       "    </tr>\n",
       "  </thead>\n",
       "  <tbody>\n",
       "    <tr>\n",
       "      <th>0</th>\n",
       "      <td>2.191857e-03</td>\n",
       "      <td>8.329812e-09</td>\n",
       "      <td>2.986043e-08</td>\n",
       "      <td>2.566960e-04</td>\n",
       "      <td>2.002365e-08</td>\n",
       "      <td>8.125136e-05</td>\n",
       "      <td>9.974693e-01</td>\n",
       "      <td>1.226957e-08</td>\n",
       "      <td>9.179901e-07</td>\n",
       "      <td>4.179963e-08</td>\n",
       "    </tr>\n",
       "    <tr>\n",
       "      <th>1</th>\n",
       "      <td>5.565416e-15</td>\n",
       "      <td>2.448927e-13</td>\n",
       "      <td>2.337120e-10</td>\n",
       "      <td>1.000000e+00</td>\n",
       "      <td>1.318748e-17</td>\n",
       "      <td>2.569519e-10</td>\n",
       "      <td>3.187627e-19</td>\n",
       "      <td>3.032178e-12</td>\n",
       "      <td>5.434724e-10</td>\n",
       "      <td>8.860301e-09</td>\n",
       "    </tr>\n",
       "    <tr>\n",
       "      <th>2</th>\n",
       "      <td>1.000000e+00</td>\n",
       "      <td>9.755763e-16</td>\n",
       "      <td>2.196042e-09</td>\n",
       "      <td>2.119875e-17</td>\n",
       "      <td>4.079209e-22</td>\n",
       "      <td>5.676019e-11</td>\n",
       "      <td>4.776969e-12</td>\n",
       "      <td>5.040833e-14</td>\n",
       "      <td>1.349066e-14</td>\n",
       "      <td>3.362985e-09</td>\n",
       "    </tr>\n",
       "    <tr>\n",
       "      <th>3</th>\n",
       "      <td>2.274709e-09</td>\n",
       "      <td>5.119972e-08</td>\n",
       "      <td>9.999934e-01</td>\n",
       "      <td>8.479713e-09</td>\n",
       "      <td>7.300370e-20</td>\n",
       "      <td>8.889470e-18</td>\n",
       "      <td>2.541485e-21</td>\n",
       "      <td>6.545723e-06</td>\n",
       "      <td>3.444446e-13</td>\n",
       "      <td>2.273933e-12</td>\n",
       "    </tr>\n",
       "    <tr>\n",
       "      <th>4</th>\n",
       "      <td>2.599439e-08</td>\n",
       "      <td>6.288651e-09</td>\n",
       "      <td>1.956388e-04</td>\n",
       "      <td>9.994226e-01</td>\n",
       "      <td>4.543586e-14</td>\n",
       "      <td>1.203848e-05</td>\n",
       "      <td>8.549465e-11</td>\n",
       "      <td>2.437801e-06</td>\n",
       "      <td>3.613286e-04</td>\n",
       "      <td>6.093133e-06</td>\n",
       "    </tr>\n",
       "    <tr>\n",
       "      <th>5</th>\n",
       "      <td>2.221183e-05</td>\n",
       "      <td>9.989251e-01</td>\n",
       "      <td>2.200871e-07</td>\n",
       "      <td>4.458157e-16</td>\n",
       "      <td>1.048817e-03</td>\n",
       "      <td>3.728325e-10</td>\n",
       "      <td>1.083134e-06</td>\n",
       "      <td>7.079245e-07</td>\n",
       "      <td>1.756922e-06</td>\n",
       "      <td>1.161995e-09</td>\n",
       "    </tr>\n",
       "    <tr>\n",
       "      <th>6</th>\n",
       "      <td>2.374019e-11</td>\n",
       "      <td>5.152060e-12</td>\n",
       "      <td>7.980150e-09</td>\n",
       "      <td>2.316756e-08</td>\n",
       "      <td>9.999964e-01</td>\n",
       "      <td>2.711817e-09</td>\n",
       "      <td>9.187379e-08</td>\n",
       "      <td>9.503764e-12</td>\n",
       "      <td>3.086763e-11</td>\n",
       "      <td>3.426710e-06</td>\n",
       "    </tr>\n",
       "    <tr>\n",
       "      <th>7</th>\n",
       "      <td>3.831845e-15</td>\n",
       "      <td>9.609947e-12</td>\n",
       "      <td>2.200373e-07</td>\n",
       "      <td>2.992358e-09</td>\n",
       "      <td>5.490127e-09</td>\n",
       "      <td>9.999169e-01</td>\n",
       "      <td>2.731252e-07</td>\n",
       "      <td>1.033067e-08</td>\n",
       "      <td>8.264428e-05</td>\n",
       "      <td>5.672769e-10</td>\n",
       "    </tr>\n",
       "    <tr>\n",
       "      <th>8</th>\n",
       "      <td>4.459460e-05</td>\n",
       "      <td>7.413438e-04</td>\n",
       "      <td>1.657070e-03</td>\n",
       "      <td>3.306504e-11</td>\n",
       "      <td>3.375662e-03</td>\n",
       "      <td>1.216053e-09</td>\n",
       "      <td>9.941813e-01</td>\n",
       "      <td>2.692946e-11</td>\n",
       "      <td>3.311693e-10</td>\n",
       "      <td>1.374724e-12</td>\n",
       "    </tr>\n",
       "    <tr>\n",
       "      <th>9</th>\n",
       "      <td>9.976231e-02</td>\n",
       "      <td>1.453970e-01</td>\n",
       "      <td>9.520067e-02</td>\n",
       "      <td>8.473812e-02</td>\n",
       "      <td>9.782449e-02</td>\n",
       "      <td>1.015754e-01</td>\n",
       "      <td>9.205496e-02</td>\n",
       "      <td>1.186613e-01</td>\n",
       "      <td>6.759043e-02</td>\n",
       "      <td>9.719531e-02</td>\n",
       "    </tr>\n",
       "    <tr>\n",
       "      <th>10</th>\n",
       "      <td>1.722752e-07</td>\n",
       "      <td>3.918996e-07</td>\n",
       "      <td>9.663022e-01</td>\n",
       "      <td>1.591772e-05</td>\n",
       "      <td>4.885928e-11</td>\n",
       "      <td>2.247915e-08</td>\n",
       "      <td>1.923515e-07</td>\n",
       "      <td>1.202314e-08</td>\n",
       "      <td>3.368117e-02</td>\n",
       "      <td>3.375273e-16</td>\n",
       "    </tr>\n",
       "    <tr>\n",
       "      <th>11</th>\n",
       "      <td>2.432181e-15</td>\n",
       "      <td>1.406115e-14</td>\n",
       "      <td>5.688622e-12</td>\n",
       "      <td>1.622210e-08</td>\n",
       "      <td>2.899952e-18</td>\n",
       "      <td>1.655179e-06</td>\n",
       "      <td>3.652309e-10</td>\n",
       "      <td>3.426594e-13</td>\n",
       "      <td>9.999983e-01</td>\n",
       "      <td>9.125678e-15</td>\n",
       "    </tr>\n",
       "    <tr>\n",
       "      <th>12</th>\n",
       "      <td>1.000000e+00</td>\n",
       "      <td>7.839996e-15</td>\n",
       "      <td>2.984623e-11</td>\n",
       "      <td>3.158518e-18</td>\n",
       "      <td>6.364171e-17</td>\n",
       "      <td>6.232485e-18</td>\n",
       "      <td>1.508440e-14</td>\n",
       "      <td>4.389092e-11</td>\n",
       "      <td>4.569910e-14</td>\n",
       "      <td>2.307726e-13</td>\n",
       "    </tr>\n",
       "    <tr>\n",
       "      <th>13</th>\n",
       "      <td>5.867310e-10</td>\n",
       "      <td>1.940399e-10</td>\n",
       "      <td>4.708675e-10</td>\n",
       "      <td>1.919657e-05</td>\n",
       "      <td>8.279922e-16</td>\n",
       "      <td>9.999807e-01</td>\n",
       "      <td>2.677554e-10</td>\n",
       "      <td>5.350205e-08</td>\n",
       "      <td>1.589285e-07</td>\n",
       "      <td>1.618419e-09</td>\n",
       "    </tr>\n",
       "    <tr>\n",
       "      <th>14</th>\n",
       "      <td>1.691424e-05</td>\n",
       "      <td>6.505419e-07</td>\n",
       "      <td>6.893409e-03</td>\n",
       "      <td>4.959316e-01</td>\n",
       "      <td>6.591350e-09</td>\n",
       "      <td>8.441991e-02</td>\n",
       "      <td>1.144327e-04</td>\n",
       "      <td>7.106296e-07</td>\n",
       "      <td>4.126194e-01</td>\n",
       "      <td>3.003306e-06</td>\n",
       "    </tr>\n",
       "    <tr>\n",
       "      <th>15</th>\n",
       "      <td>9.832615e-12</td>\n",
       "      <td>2.686579e-13</td>\n",
       "      <td>3.393157e-09</td>\n",
       "      <td>1.620099e-10</td>\n",
       "      <td>3.000171e-14</td>\n",
       "      <td>7.403701e-03</td>\n",
       "      <td>9.925962e-01</td>\n",
       "      <td>4.241355e-19</td>\n",
       "      <td>1.467083e-07</td>\n",
       "      <td>1.017363e-11</td>\n",
       "    </tr>\n",
       "    <tr>\n",
       "      <th>16</th>\n",
       "      <td>1.600280e-07</td>\n",
       "      <td>9.994277e-01</td>\n",
       "      <td>1.178115e-04</td>\n",
       "      <td>1.949337e-07</td>\n",
       "      <td>1.592184e-08</td>\n",
       "      <td>3.209626e-08</td>\n",
       "      <td>1.699148e-10</td>\n",
       "      <td>4.381888e-04</td>\n",
       "      <td>1.765460e-06</td>\n",
       "      <td>1.411739e-05</td>\n",
       "    </tr>\n",
       "  </tbody>\n",
       "</table>\n",
       "</div>"
      ],
      "text/plain": [
       "               0             1             2             3             4  \\\n",
       "0   2.191857e-03  8.329812e-09  2.986043e-08  2.566960e-04  2.002365e-08   \n",
       "1   5.565416e-15  2.448927e-13  2.337120e-10  1.000000e+00  1.318748e-17   \n",
       "2   1.000000e+00  9.755763e-16  2.196042e-09  2.119875e-17  4.079209e-22   \n",
       "3   2.274709e-09  5.119972e-08  9.999934e-01  8.479713e-09  7.300370e-20   \n",
       "4   2.599439e-08  6.288651e-09  1.956388e-04  9.994226e-01  4.543586e-14   \n",
       "5   2.221183e-05  9.989251e-01  2.200871e-07  4.458157e-16  1.048817e-03   \n",
       "6   2.374019e-11  5.152060e-12  7.980150e-09  2.316756e-08  9.999964e-01   \n",
       "7   3.831845e-15  9.609947e-12  2.200373e-07  2.992358e-09  5.490127e-09   \n",
       "8   4.459460e-05  7.413438e-04  1.657070e-03  3.306504e-11  3.375662e-03   \n",
       "9   9.976231e-02  1.453970e-01  9.520067e-02  8.473812e-02  9.782449e-02   \n",
       "10  1.722752e-07  3.918996e-07  9.663022e-01  1.591772e-05  4.885928e-11   \n",
       "11  2.432181e-15  1.406115e-14  5.688622e-12  1.622210e-08  2.899952e-18   \n",
       "12  1.000000e+00  7.839996e-15  2.984623e-11  3.158518e-18  6.364171e-17   \n",
       "13  5.867310e-10  1.940399e-10  4.708675e-10  1.919657e-05  8.279922e-16   \n",
       "14  1.691424e-05  6.505419e-07  6.893409e-03  4.959316e-01  6.591350e-09   \n",
       "15  9.832615e-12  2.686579e-13  3.393157e-09  1.620099e-10  3.000171e-14   \n",
       "16  1.600280e-07  9.994277e-01  1.178115e-04  1.949337e-07  1.592184e-08   \n",
       "\n",
       "               5             6             7             8             9  \n",
       "0   8.125136e-05  9.974693e-01  1.226957e-08  9.179901e-07  4.179963e-08  \n",
       "1   2.569519e-10  3.187627e-19  3.032178e-12  5.434724e-10  8.860301e-09  \n",
       "2   5.676019e-11  4.776969e-12  5.040833e-14  1.349066e-14  3.362985e-09  \n",
       "3   8.889470e-18  2.541485e-21  6.545723e-06  3.444446e-13  2.273933e-12  \n",
       "4   1.203848e-05  8.549465e-11  2.437801e-06  3.613286e-04  6.093133e-06  \n",
       "5   3.728325e-10  1.083134e-06  7.079245e-07  1.756922e-06  1.161995e-09  \n",
       "6   2.711817e-09  9.187379e-08  9.503764e-12  3.086763e-11  3.426710e-06  \n",
       "7   9.999169e-01  2.731252e-07  1.033067e-08  8.264428e-05  5.672769e-10  \n",
       "8   1.216053e-09  9.941813e-01  2.692946e-11  3.311693e-10  1.374724e-12  \n",
       "9   1.015754e-01  9.205496e-02  1.186613e-01  6.759043e-02  9.719531e-02  \n",
       "10  2.247915e-08  1.923515e-07  1.202314e-08  3.368117e-02  3.375273e-16  \n",
       "11  1.655179e-06  3.652309e-10  3.426594e-13  9.999983e-01  9.125678e-15  \n",
       "12  6.232485e-18  1.508440e-14  4.389092e-11  4.569910e-14  2.307726e-13  \n",
       "13  9.999807e-01  2.677554e-10  5.350205e-08  1.589285e-07  1.618419e-09  \n",
       "14  8.441991e-02  1.144327e-04  7.106296e-07  4.126194e-01  3.003306e-06  \n",
       "15  7.403701e-03  9.925962e-01  4.241355e-19  1.467083e-07  1.017363e-11  \n",
       "16  3.209626e-08  1.699148e-10  4.381888e-04  1.765460e-06  1.411739e-05  "
      ]
     },
     "execution_count": 53,
     "metadata": {},
     "output_type": "execute_result"
    }
   ],
   "source": [
    "pd.DataFrame(y_pred_acc)"
   ]
  },
  {
   "cell_type": "markdown",
   "metadata": {},
   "source": [
    "Draw the images and the predictions made by the model."
   ]
  },
  {
   "cell_type": "code",
   "execution_count": 54,
   "metadata": {},
   "outputs": [
    {
     "data": {
      "image/png": "[encoded data removed]",
      "text/plain": [
       "<Figure size 1440x1440 with 17 Axes>"
      ]
     },
     "metadata": {
      "needs_background": "light"
     },
     "output_type": "display_data"
    }
   ],
   "source": [
    "pltsize=4\n",
    "row_images = 5\n",
    "col_images = 5\n",
    "plt.figure(figsize=(col_images*pltsize, row_images*pltsize))\n",
    "\n",
    "for i in range(row_images * col_images):\n",
    "    if(i == len(X_data_test)):\n",
    "        break\n",
    "        \n",
    "    plt.subplot(row_images,col_images,i+1)\n",
    "    plt.axis('off')\n",
    "    plt.imshow((X_data_test[i]*255).astype('int').reshape(28,28), cmap='gray', vmin=0, vmax=255)\n",
    "    plt.title(\"{}\".format(y_pred[i]))    \n"
   ]
  },
  {
   "cell_type": "markdown",
   "metadata": {},
   "source": [
    "Start an interactive version (using gradio)"
   ]
  },
  {
   "cell_type": "code",
   "execution_count": 64,
   "metadata": {},
   "outputs": [
    {
     "name": "stderr",
     "output_type": "stream",
     "text": [
      "/Users/bmacnamee/opt/anaconda3/envs/RL_Jan_2021/lib/python3.9/site-packages/gradio/interface.py:188: UserWarning: The `capture_session` parameter in the `Interface` is deprecated and has no effect.\n",
      "  warnings.warn(\"The `capture_session` parameter in the `Interface` is deprecated and has no effect.\")\n"
     ]
    },
    {
     "name": "stdout",
     "output_type": "stream",
     "text": [
      "Test launch: recognize_digit()... PASSED\n"
     ]
    }
   ],
   "source": [
    "def recognize_digit(image):\n",
    "    image = image.reshape(1, 28, 28, 1)\n",
    "    prediction = model.predict(image).tolist()[0]\n",
    "    return {str(i): prediction[i] for i in range(10)}\n",
    "\n",
    "im = gradio.inputs.Image(shape=(28, 28), \n",
    "                         image_mode='L', \n",
    "                         invert_colors=True, \n",
    "                         source=\"canvas\")\n",
    "\n",
    "iface = gr.Interface(\n",
    "    recognize_digit, \n",
    "    im, \n",
    "    gradio.outputs.Label(num_top_classes=3),\n",
    "    live=True,\n",
    "    interpretation=\"default\",\n",
    "    capture_session=True,\n",
    ")\n",
    "\n",
    "iface.test_launch()"
   ]
  },
  {
   "cell_type": "code",
   "execution_count": 65,
   "metadata": {},
   "outputs": [
    {
     "name": "stdout",
     "output_type": "stream",
     "text": [
      "Running on local URL:  http://127.0.0.1:7862/\n",
      "\n",
      "To create a public link, set `share=True` in `launch()`.\n"
     ]
    },
    {
     "data": {
      "text/html": [
       "\n",
       "        <iframe\n",
       "            width=\"900\"\n",
       "            height=\"500\"\n",
       "            src=\"http://127.0.0.1:7862/\"\n",
       "            frameborder=\"0\"\n",
       "            allowfullscreen\n",
       "            \n",
       "        ></iframe>\n",
       "        "
      ],
      "text/plain": [
       "<IPython.lib.display.IFrame at 0x13bd5f880>"
      ]
     },
     "metadata": {},
     "output_type": "display_data"
    },
    {
     "data": {
      "text/plain": [
       "(<Flask 'gradio.networking'>, 'http://127.0.0.1:7862/', None)"
      ]
     },
     "execution_count": 65,
     "metadata": {},
     "output_type": "execute_result"
    }
   ],
   "source": [
    "iface.launch()"
   ]
  },
  {
   "cell_type": "code",
   "execution_count": null,
   "metadata": {},
   "outputs": [],
   "source": []
  }
 ],
 "metadata": {
  "kernelspec": {
   "display_name": "Python 3 (ipykernel)",
   "language": "python",
   "name": "python3"
  },
  "language_info": {
   "codemirror_mode": {
    "name": "ipython",
    "version": 3
   },
   "file_extension": ".py",
   "mimetype": "text/x-python",
   "name": "python",
   "nbconvert_exporter": "python",
   "pygments_lexer": "ipython3",
   "version": "3.9.7"
  },
  "toc": {
   "base_numbering": 1,
   "nav_menu": {},
   "number_sections": false,
   "sideBar": true,
   "skip_h1_title": true,
   "title_cell": "Table of Contents",
   "title_sidebar": "Contents",
   "toc_cell": false,
   "toc_position": {},
   "toc_section_display": true,
   "toc_window_display": true
  }
 },
 "nbformat": 4,
 "nbformat_minor": 1
}
